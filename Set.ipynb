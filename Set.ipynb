{
 "cells": [
  {
   "cell_type": "code",
   "execution_count": null,
   "id": "19bfd0da",
   "metadata": {},
   "outputs": [],
   "source": [
    "Days={\"Mon\",\"Tue\",\"Wed\",\"Thur\",\"Fri\",\"Sat\",\"Sun\"}\n",
    "print(Days)"
   ]
  },
  {
   "cell_type": "code",
   "execution_count": null,
   "id": "1726bde1",
   "metadata": {},
   "outputs": [],
   "source": [
    "#type\n",
    "type(Days)\n"
   ]
  },
  {
   "cell_type": "code",
   "execution_count": null,
   "id": "32c2bf51",
   "metadata": {},
   "outputs": [],
   "source": [
    "# Accessing Days\n",
    "Days=([\"Mon\",\"Tue\",\"Wed\",\"Thur\",\"Fri\",\"Sat\",\"Sun\"])\n",
    "print(Days)\n",
    "type(Days)"
   ]
  },
  {
   "cell_type": "code",
   "execution_count": null,
   "id": "117ad4a0",
   "metadata": {},
   "outputs": [],
   "source": [
    "Days=set([\"Mon\",\"Tue\",\"Wed\",\"Thur\",\"Fri\",\"Sat\",\"Sun\"])\n",
    "for i in Days:\n",
    "    print(i)"
   ]
  },
  {
   "cell_type": "code",
   "execution_count": null,
   "id": "4c9a8e41",
   "metadata": {},
   "outputs": [],
   "source": [
    "Days=set([\"Mon\",\"Tue\",\"Wed\",\"Thur\",\"Fri\",\"Sat\",\"Sun\"])\n",
    "print(Days)\n",
    "type(Days)"
   ]
  },
  {
   "cell_type": "code",
   "execution_count": null,
   "id": "4d65a472",
   "metadata": {},
   "outputs": [],
   "source": [
    "Days=set([\"Mon\",\"Tue\",\"Wed\",\"Thur\",\"Fri\",\"Sat\",\"Sun\"])\n",
    "Days1={\"Jan\",\"Feb\",\"March\",\"April\",\"May\",\"June\",\"Jul\",\"Aug\",\"Sep\",\"Auc\"}\n",
    "Days1.add(\"Nov\")\n",
    "print(Days1)"
   ]
  },
  {
   "cell_type": "code",
   "execution_count": null,
   "id": "324ec8cf",
   "metadata": {},
   "outputs": [],
   "source": [
    "Days1.add(\"Dec\")\n",
    "print(Days1)"
   ]
  },
  {
   "cell_type": "code",
   "execution_count": null,
   "id": "f73ec917",
   "metadata": {},
   "outputs": [],
   "source": [
    "Days1.remove(\"Jan\")\n",
    "print(Days1)"
   ]
  },
  {
   "cell_type": "code",
   "execution_count": null,
   "id": "6ea03209",
   "metadata": {},
   "outputs": [],
   "source": [
    "Days1.pop()\n",
    "\n",
    "print(Days1)"
   ]
  },
  {
   "cell_type": "code",
   "execution_count": null,
   "id": "63852e17",
   "metadata": {},
   "outputs": [],
   "source": [
    "Days.add(\"Jan\")\n",
    "print(Days)"
   ]
  },
  {
   "cell_type": "code",
   "execution_count": null,
   "id": "e3b71703",
   "metadata": {},
   "outputs": [],
   "source": [
    "info=set([1,\"jyoti\",23,1998,1+3j])\n",
    "print(info)"
   ]
  },
  {
   "cell_type": "code",
   "execution_count": null,
   "id": "0f853a19",
   "metadata": {},
   "outputs": [],
   "source": [
    "type(info)"
   ]
  },
  {
   "cell_type": "code",
   "execution_count": null,
   "id": "d1d9bc60",
   "metadata": {},
   "outputs": [],
   "source": [
    "for i in info:\n",
    "    print(i)"
   ]
  },
  {
   "cell_type": "code",
   "execution_count": null,
   "id": "32bca897",
   "metadata": {},
   "outputs": [],
   "source": [
    "fruit={\"Mango\",\"Apple\",\"Banana\",\"Grapes\"}\n",
    "print(fruit)"
   ]
  },
  {
   "cell_type": "code",
   "execution_count": null,
   "id": "402ff83d",
   "metadata": {},
   "outputs": [],
   "source": [
    "type(fruit)"
   ]
  },
  {
   "cell_type": "code",
   "execution_count": null,
   "id": "4070bd5f",
   "metadata": {},
   "outputs": [],
   "source": [
    "fruit.add(\"Cherry\")\n",
    "print(fruit)"
   ]
  },
  {
   "cell_type": "code",
   "execution_count": 5,
   "id": "7e3726e2",
   "metadata": {},
   "outputs": [
    {
     "name": "stdout",
     "output_type": "stream",
     "text": [
      "{'Grapes', 'Banana', 'Mango'}\n"
     ]
    },
    {
     "ename": "TypeError",
     "evalue": "'set' object does not support item assignment",
     "output_type": "error",
     "traceback": [
      "\u001b[1;31m---------------------------------------------------------------------------\u001b[0m",
      "\u001b[1;31mTypeError\u001b[0m                                 Traceback (most recent call last)",
      "\u001b[1;32m<ipython-input-5-ce8c22edfa03>\u001b[0m in \u001b[0;36m<module>\u001b[1;34m\u001b[0m\n\u001b[0;32m      3\u001b[0m \u001b[0mfruit\u001b[0m\u001b[1;33m.\u001b[0m\u001b[0mpop\u001b[0m\u001b[1;33m(\u001b[0m\u001b[1;33m)\u001b[0m\u001b[1;33m\u001b[0m\u001b[1;33m\u001b[0m\u001b[0m\n\u001b[0;32m      4\u001b[0m \u001b[0mprint\u001b[0m\u001b[1;33m(\u001b[0m\u001b[0mfruit\u001b[0m\u001b[1;33m)\u001b[0m\u001b[1;33m\u001b[0m\u001b[1;33m\u001b[0m\u001b[0m\n\u001b[1;32m----> 5\u001b[1;33m \u001b[0mfruit\u001b[0m\u001b[1;33m[\u001b[0m\u001b[1;36m1\u001b[0m\u001b[1;33m]\u001b[0m\u001b[1;33m=\u001b[0m\u001b[1;34m\"apple\"\u001b[0m\u001b[1;33m\u001b[0m\u001b[1;33m\u001b[0m\u001b[0m\n\u001b[0m\u001b[0;32m      6\u001b[0m \u001b[0mprint\u001b[0m\u001b[1;33m(\u001b[0m\u001b[0mfruit\u001b[0m\u001b[1;33m)\u001b[0m\u001b[1;33m\u001b[0m\u001b[1;33m\u001b[0m\u001b[0m\n",
      "\u001b[1;31mTypeError\u001b[0m: 'set' object does not support item assignment"
     ]
    }
   ],
   "source": [
    "fruit={\"Mango\",\"Apple\",\"Banana\",\"Grapes\"}\n",
    "#fruit.discard(\"apple\")\n",
    "fruit.pop()\n",
    "print(fruit)\n",
    "fruit[1]=\"apple\"\n",
    "print(fruit)"
   ]
  },
  {
   "cell_type": "code",
   "execution_count": null,
   "id": "e879bd10",
   "metadata": {},
   "outputs": [],
   "source": []
  },
  {
   "cell_type": "code",
   "execution_count": 6,
   "id": "cb5c55fc",
   "metadata": {},
   "outputs": [
    {
     "ename": "TypeError",
     "evalue": "discard() takes exactly one argument (0 given)",
     "output_type": "error",
     "traceback": [
      "\u001b[1;31m---------------------------------------------------------------------------\u001b[0m",
      "\u001b[1;31mTypeError\u001b[0m                                 Traceback (most recent call last)",
      "\u001b[1;32m<ipython-input-6-28a587229764>\u001b[0m in \u001b[0;36m<module>\u001b[1;34m\u001b[0m\n\u001b[1;32m----> 1\u001b[1;33m \u001b[0mfruit\u001b[0m\u001b[1;33m.\u001b[0m\u001b[0mdiscard\u001b[0m\u001b[1;33m(\u001b[0m\u001b[1;33m)\u001b[0m\u001b[1;33m\u001b[0m\u001b[1;33m\u001b[0m\u001b[0m\n\u001b[0m\u001b[0;32m      2\u001b[0m \u001b[0mprint\u001b[0m\u001b[1;33m(\u001b[0m\u001b[0mfruit\u001b[0m\u001b[1;33m)\u001b[0m\u001b[1;33m\u001b[0m\u001b[1;33m\u001b[0m\u001b[0m\n",
      "\u001b[1;31mTypeError\u001b[0m: discard() takes exactly one argument (0 given)"
     ]
    }
   ],
   "source": [
    "fruit.discard()\n",
    "print(fruit)"
   ]
  },
  {
   "cell_type": "code",
   "execution_count": 8,
   "id": "05779acc",
   "metadata": {},
   "outputs": [
    {
     "data": {
      "text/plain": [
       "{1, 4, 5.8, 'Akki', 'Jyo', 'Kumar', 'Kz', 'krish', 'ram'}"
      ]
     },
     "execution_count": 8,
     "metadata": {},
     "output_type": "execute_result"
    }
   ],
   "source": [
    "set={1,'krish',4,\"Jyo\",\"Kumar\",\"Akki\",5.8,\"ram\",\"Kz\"}\n",
    "set"
   ]
  },
  {
   "cell_type": "code",
   "execution_count": 9,
   "id": "8e926b06",
   "metadata": {},
   "outputs": [
    {
     "data": {
      "text/plain": [
       "{'Fri', 'Mon', 'Sat', 'Sun', 'Thur', 'Tue', 'Wed'}"
      ]
     },
     "execution_count": 9,
     "metadata": {},
     "output_type": "execute_result"
    }
   ],
   "source": [
    "Days={\"Mon\",\"Tue\",\"Wed\",\"Thur\",\"Fri\",\"Sat\",\"Sun\"}\n",
    "Days"
   ]
  },
  {
   "cell_type": "code",
   "execution_count": 10,
   "id": "087ed1e0",
   "metadata": {},
   "outputs": [
    {
     "name": "stdout",
     "output_type": "stream",
     "text": [
      "Looping through the set elements.\n",
      "Thur\n",
      "Sat\n",
      "Mon\n",
      "Tue\n",
      "Fri\n",
      "Wed\n",
      "Sun\n"
     ]
    }
   ],
   "source": [
    "print(\"Looping through the set elements.\")\n",
    "for i in Days:\n",
    "    print(i)"
   ]
  },
  {
   "cell_type": "code",
   "execution_count": null,
   "id": "96b78205",
   "metadata": {},
   "outputs": [],
   "source": []
  }
 ],
 "metadata": {
  "kernelspec": {
   "display_name": "Python 3",
   "language": "python",
   "name": "python3"
  },
  "language_info": {
   "codemirror_mode": {
    "name": "ipython",
    "version": 3
   },
   "file_extension": ".py",
   "mimetype": "text/x-python",
   "name": "python",
   "nbconvert_exporter": "python",
   "pygments_lexer": "ipython3",
   "version": "3.8.8"
  }
 },
 "nbformat": 4,
 "nbformat_minor": 5
}
