{
 "cells": [
  {
   "cell_type": "code",
   "execution_count": null,
   "id": "bd6a7eaf",
   "metadata": {},
   "outputs": [],
   "source": [
    "print(\"hello world\")"
   ]
  },
  {
   "cell_type": "code",
   "execution_count": null,
   "id": "bcf3cde7",
   "metadata": {},
   "outputs": [],
   "source": [
    "x='hello world'\n",
    "x"
   ]
  },
  {
   "cell_type": "code",
   "execution_count": null,
   "id": "d55bca65",
   "metadata": {},
   "outputs": [],
   "source": [
    "type(x)"
   ]
  },
  {
   "cell_type": "code",
   "execution_count": null,
   "id": "72202f97",
   "metadata": {},
   "outputs": [],
   "source": [
    "type(a)\n",
    "a"
   ]
  },
  {
   "cell_type": "code",
   "execution_count": null,
   "id": "6c1d894e",
   "metadata": {},
   "outputs": [],
   "source": [
    "a=10\n",
    "type(a)"
   ]
  },
  {
   "cell_type": "code",
   "execution_count": null,
   "id": "c1c4cfc6",
   "metadata": {},
   "outputs": [],
   "source": [
    "a=\"jyoti\"\n",
    "type(a)"
   ]
  },
  {
   "cell_type": "code",
   "execution_count": null,
   "id": "1c85bae3",
   "metadata": {},
   "outputs": [],
   "source": [
    "x=10\n",
    "type(x)"
   ]
  },
  {
   "cell_type": "code",
   "execution_count": null,
   "id": "8ce60fef",
   "metadata": {},
   "outputs": [],
   "source": [
    "x=1j\n",
    "type(x)"
   ]
  },
  {
   "cell_type": "code",
   "execution_count": null,
   "id": "27584c5f",
   "metadata": {},
   "outputs": [],
   "source": [
    "y=2+4j\n",
    "type(y)"
   ]
  },
  {
   "cell_type": "code",
   "execution_count": null,
   "id": "55d0cf81",
   "metadata": {},
   "outputs": [],
   "source": [
    "a=1-2i  ##Syntax error :::Invalid sysntax(Complex number shold be writven in i)\n",
    "type(a)"
   ]
  },
  {
   "cell_type": "code",
   "execution_count": null,
   "id": "daf0339f",
   "metadata": {},
   "outputs": [],
   "source": [
    "a=3.4\n",
    "print(x,type(a))"
   ]
  },
  {
   "cell_type": "code",
   "execution_count": null,
   "id": "365d54cf",
   "metadata": {},
   "outputs": [],
   "source": [
    "x=3.4\n",
    "x\n",
    "type(x)"
   ]
  },
  {
   "cell_type": "markdown",
   "id": "6c52bbec",
   "metadata": {},
   "source": [
    "### List"
   ]
  },
  {
   "cell_type": "code",
   "execution_count": null,
   "id": "083c2df7",
   "metadata": {},
   "outputs": [],
   "source": [
    "x=[\"apple\",\"banana\",\"cherry\"]\n",
    "type(x)"
   ]
  },
  {
   "cell_type": "code",
   "execution_count": null,
   "id": "88ca817e",
   "metadata": {},
   "outputs": [],
   "source": [
    "y=[1,2,3,4,5,6]\n",
    "y"
   ]
  },
  {
   "cell_type": "code",
   "execution_count": null,
   "id": "a2898831",
   "metadata": {},
   "outputs": [],
   "source": [
    "type(y)"
   ]
  },
  {
   "cell_type": "code",
   "execution_count": null,
   "id": "8e18685c",
   "metadata": {},
   "outputs": [],
   "source": [
    "z=[1,2,3,1.3,1-2j,\"water\"]\n",
    "type(z)"
   ]
  },
  {
   "cell_type": "markdown",
   "id": "cc6910aa",
   "metadata": {},
   "source": [
    "### Tuple"
   ]
  },
  {
   "cell_type": "code",
   "execution_count": null,
   "id": "19f91f02",
   "metadata": {},
   "outputs": [],
   "source": [
    "x=(\"apple\",\"banana\",\"cherry\")\n",
    "type(x)"
   ]
  },
  {
   "cell_type": "code",
   "execution_count": null,
   "id": "e8d11c6e",
   "metadata": {},
   "outputs": [],
   "source": [
    "z=(1,2,3,1.3,1-2j,\"water\")\n",
    "type(z)"
   ]
  },
  {
   "cell_type": "markdown",
   "id": "90a40ced",
   "metadata": {},
   "source": [
    "### Dictionary"
   ]
  },
  {
   "cell_type": "code",
   "execution_count": null,
   "id": "d145c56a",
   "metadata": {},
   "outputs": [],
   "source": [
    "x={\"name\":\"jyoti\",\"age\":23}\n",
    "type(x)"
   ]
  },
  {
   "cell_type": "code",
   "execution_count": null,
   "id": "27a3911f",
   "metadata": {},
   "outputs": [],
   "source": [
    "print(x)"
   ]
  },
  {
   "cell_type": "markdown",
   "id": "34c7d018",
   "metadata": {},
   "source": [
    "### Set"
   ]
  },
  {
   "cell_type": "code",
   "execution_count": null,
   "id": "ac54438c",
   "metadata": {},
   "outputs": [],
   "source": [
    "x={\"apple\",\"banana\",\"cherry\"}\n",
    "type(x)"
   ]
  },
  {
   "cell_type": "code",
   "execution_count": null,
   "id": "cbc439bf",
   "metadata": {},
   "outputs": [],
   "source": [
    "x={1,2,3,4,9,7,2}\n",
    "x"
   ]
  },
  {
   "cell_type": "code",
   "execution_count": null,
   "id": "0ec17a0e",
   "metadata": {},
   "outputs": [],
   "source": [
    "x={1,2,3,4,4.2,89,76,'ab','bc','xz','c'}\n",
    "x"
   ]
  },
  {
   "cell_type": "code",
   "execution_count": null,
   "id": "2d5f51ba",
   "metadata": {},
   "outputs": [],
   "source": [
    "a=\"Latha\"\n",
    "type(a)"
   ]
  },
  {
   "cell_type": "code",
   "execution_count": null,
   "id": "20f2245d",
   "metadata": {},
   "outputs": [],
   "source": [
    "b=5.2\n",
    "type(b)"
   ]
  },
  {
   "cell_type": "code",
   "execution_count": null,
   "id": "4c4e8b67",
   "metadata": {
    "scrolled": true
   },
   "outputs": [],
   "source": [
    "c=33\n",
    "type(c)"
   ]
  },
  {
   "cell_type": "code",
   "execution_count": null,
   "id": "4cf5e374",
   "metadata": {
    "scrolled": true
   },
   "outputs": [],
   "source": [
    "d=2+3j\n",
    "type(d)"
   ]
  },
  {
   "cell_type": "code",
   "execution_count": null,
   "id": "da2b2820",
   "metadata": {
    "scrolled": true
   },
   "outputs": [],
   "source": [
    "z=False\n",
    "type(z)"
   ]
  },
  {
   "cell_type": "code",
   "execution_count": null,
   "id": "276dc6f8",
   "metadata": {
    "scrolled": true
   },
   "outputs": [],
   "source": [
    "z=False\n",
    "type(z)"
   ]
  },
  {
   "cell_type": "markdown",
   "id": "b747002b",
   "metadata": {},
   "source": [
    "### Data type Conversion"
   ]
  },
  {
   "cell_type": "code",
   "execution_count": null,
   "id": "d7dc3ee2",
   "metadata": {},
   "outputs": [],
   "source": [
    "x=30\n",
    "y=3.99\n",
    "z=2+3j\n",
    "#Convert from int to float\n",
    "a=float(x)\n",
    "a\n",
    "\n",
    "#Convert from float to int\n",
    "b=int(y)\n",
    "b\n",
    "\n",
    "## Convert from int to complex\n",
    "c=complex(x)\n",
    "c\n",
    "\n",
    "\n",
    "d=complex(y)\n",
    "d\n",
    "\n",
    "# float to complex\n",
    "f=complex()\n",
    "f\n",
    "\n",
    "##complex to float\n",
    "g=float(z)        \n",
    "g\n",
    "###O/P--can't convert complex to float\n",
    "\n",
    "\n",
    "##Complex to int\n",
    "h=int(z)    ## O/P-\n",
    "h\n",
    "\n"
   ]
  },
  {
   "cell_type": "code",
   "execution_count": null,
   "id": "59e581ae",
   "metadata": {
    "scrolled": true
   },
   "outputs": [],
   "source": [
    "## Int to str\n",
    "a='hello'\n",
    "b=32\n",
    "c=str(b)\n",
    "c"
   ]
  },
  {
   "cell_type": "code",
   "execution_count": null,
   "id": "4165fa69",
   "metadata": {
    "scrolled": true
   },
   "outputs": [],
   "source": [
    "#String to int\n",
    "d=int(a) # Cant convert String to int\n",
    "d"
   ]
  },
  {
   "cell_type": "markdown",
   "id": "90453e57",
   "metadata": {},
   "source": [
    "### Variables\n",
    "Variables are containers for storing values..\n",
    "Python has no connecting for declaring the variable"
   ]
  },
  {
   "cell_type": "code",
   "execution_count": null,
   "id": "e17e2423",
   "metadata": {},
   "outputs": [],
   "source": [
    "### declaring a variable\n",
    "x=5"
   ]
  },
  {
   "cell_type": "code",
   "execution_count": null,
   "id": "aab96d5f",
   "metadata": {},
   "outputs": [],
   "source": [
    "x"
   ]
  },
  {
   "cell_type": "code",
   "execution_count": null,
   "id": "85463a52",
   "metadata": {},
   "outputs": [],
   "source": [
    "name=\"Jyoti\""
   ]
  },
  {
   "cell_type": "code",
   "execution_count": null,
   "id": "da28e82a",
   "metadata": {},
   "outputs": [],
   "source": [
    "name_nick=\"Latha\""
   ]
  },
  {
   "cell_type": "code",
   "execution_count": null,
   "id": "aca6f893",
   "metadata": {},
   "outputs": [],
   "source": [
    "nick@name=\"Jyoti\"\n",
    "nick@name"
   ]
  },
  {
   "cell_type": "markdown",
   "id": "b284af3b",
   "metadata": {},
   "source": [
    "### Declaring a variable\n",
    "x=5"
   ]
  },
  {
   "cell_type": "code",
   "execution_count": null,
   "id": "851eadc3",
   "metadata": {},
   "outputs": [],
   "source": [
    "x"
   ]
  },
  {
   "cell_type": "code",
   "execution_count": null,
   "id": "71d4cc49",
   "metadata": {},
   "outputs": [],
   "source": [
    "name=jyoti\n"
   ]
  },
  {
   "cell_type": "code",
   "execution_count": 13,
   "id": "dc811c5d",
   "metadata": {},
   "outputs": [
    {
     "data": {
      "text/plain": [
       "2"
      ]
     },
     "execution_count": 13,
     "metadata": {},
     "output_type": "execute_result"
    }
   ],
   "source": [
    "a=10\n",
    "b=4\n",
    "c=a%b\n",
    "c"
   ]
  },
  {
   "cell_type": "code",
   "execution_count": 16,
   "id": "6086d882",
   "metadata": {},
   "outputs": [
    {
     "data": {
      "text/plain": [
       "0"
      ]
     },
     "execution_count": 16,
     "metadata": {},
     "output_type": "execute_result"
    }
   ],
   "source": [
    "b=10\n",
    "c=12\n",
    "d=b//c\n",
    "d"
   ]
  },
  {
   "cell_type": "code",
   "execution_count": 17,
   "id": "7be8fb5a",
   "metadata": {},
   "outputs": [
    {
     "ename": "NameError",
     "evalue": "name 'name' is not defined",
     "output_type": "error",
     "traceback": [
      "\u001b[1;31m---------------------------------------------------------------------------\u001b[0m",
      "\u001b[1;31mNameError\u001b[0m                                 Traceback (most recent call last)",
      "\u001b[1;32m<ipython-input-17-50c78e206413>\u001b[0m in \u001b[0;36m<module>\u001b[1;34m\u001b[0m\n\u001b[0;32m      1\u001b[0m \u001b[0maname\u001b[0m\u001b[1;33m=\u001b[0m\u001b[1;34m'jyovi'\u001b[0m\u001b[1;33m\u001b[0m\u001b[1;33m\u001b[0m\u001b[0m\n\u001b[1;32m----> 2\u001b[1;33m \u001b[0mname\u001b[0m\u001b[1;33m\u001b[0m\u001b[1;33m\u001b[0m\u001b[0m\n\u001b[0m",
      "\u001b[1;31mNameError\u001b[0m: name 'name' is not defined"
     ]
    }
   ],
   "source": [
    "aname='jyovi'\n",
    "name"
   ]
  },
  {
   "cell_type": "code",
   "execution_count": null,
   "id": "7b04cd0b",
   "metadata": {},
   "outputs": [],
   "source": [
    "_nick_name='jyoti'\n",
    "_nick_name"
   ]
  },
  {
   "cell_type": "code",
   "execution_count": null,
   "id": "acd19c08",
   "metadata": {},
   "outputs": [],
   "source": [
    "1_nickname='jyoti'\n",
    "1_nickname"
   ]
  },
  {
   "cell_type": "code",
   "execution_count": null,
   "id": "d2fbb7fe",
   "metadata": {},
   "outputs": [],
   "source": [
    "Nick@name=\"jyoti\"\n",
    "Nick@name\n"
   ]
  },
  {
   "cell_type": "code",
   "execution_count": null,
   "id": "863bec38",
   "metadata": {},
   "outputs": [],
   "source": [
    "Age=32\n",
    "Age"
   ]
  },
  {
   "cell_type": "code",
   "execution_count": null,
   "id": "2814d022",
   "metadata": {},
   "outputs": [],
   "source": [
    "age=32\n",
    "age"
   ]
  },
  {
   "cell_type": "markdown",
   "id": "421d1291",
   "metadata": {},
   "source": [
    "### variables"
   ]
  },
  {
   "cell_type": "code",
   "execution_count": null,
   "id": "c2744bbb",
   "metadata": {},
   "outputs": [],
   "source": [
    "a=10\n",
    "b=23\n",
    "c=a+b\n",
    "type(c),"
   ]
  },
  {
   "cell_type": "markdown",
   "id": "085b8d42",
   "metadata": {},
   "source": [
    "####int,float string,bool,complex"
   ]
  },
  {
   "cell_type": "markdown",
   "id": "5aa5e427",
   "metadata": {},
   "source": [
    "a='579'\n",
    "type(a)"
   ]
  },
  {
   "cell_type": "code",
   "execution_count": null,
   "id": "f86597d6",
   "metadata": {},
   "outputs": [],
   "source": [
    "a='123'\n",
    "type(a)"
   ]
  },
  {
   "cell_type": "code",
   "execution_count": null,
   "id": "12b4d01d",
   "metadata": {},
   "outputs": [],
   "source": [
    "a=int(input())\n",
    "print(type(a))"
   ]
  },
  {
   "cell_type": "code",
   "execution_count": null,
   "id": "22a8481a",
   "metadata": {},
   "outputs": [],
   "source": [
    "a=int(input())\n",
    "print(type(a))"
   ]
  },
  {
   "cell_type": "code",
   "execution_count": null,
   "id": "29d5f69d",
   "metadata": {},
   "outputs": [],
   "source": [
    "age=int(input(\"Enter your age\"))\n",
    "print(type(age))"
   ]
  },
  {
   "cell_type": "code",
   "execution_count": null,
   "id": "622ece10",
   "metadata": {},
   "outputs": [],
   "source": [
    "height=5.6\n",
    "height_2=int(height)\n",
    "print(height_2)"
   ]
  },
  {
   "cell_type": "markdown",
   "id": "b6a50b80",
   "metadata": {},
   "source": [
    "### Operators"
   ]
  },
  {
   "cell_type": "code",
   "execution_count": null,
   "id": "4463d484",
   "metadata": {},
   "outputs": [],
   "source": [
    "#Addition\n",
    "x=10\n",
    "y=20\n",
    "a=x+y \n",
    "a\n"
   ]
  },
  {
   "cell_type": "code",
   "execution_count": null,
   "id": "1f41de93",
   "metadata": {},
   "outputs": [],
   "source": [
    " # Substraction\n",
    "x=10\n",
    "y=20\n",
    "b=x-y\n",
    "b"
   ]
  },
  {
   "cell_type": "code",
   "execution_count": null,
   "id": "55653261",
   "metadata": {},
   "outputs": [],
   "source": [
    "#Multiplication\n",
    "x=10\n",
    "y=20\n",
    "c=x*y \n",
    "c"
   ]
  },
  {
   "cell_type": "code",
   "execution_count": null,
   "id": "96432abe",
   "metadata": {},
   "outputs": [],
   "source": [
    "#Modulus(Reminder)\n",
    "x=10\n",
    "y=4\n",
    "d=x%y \n",
    "d"
   ]
  },
  {
   "cell_type": "code",
   "execution_count": null,
   "id": "50d466b2",
   "metadata": {},
   "outputs": [],
   "source": [
    "# Division\n",
    "x=10\n",
    "y=2\n",
    "e=x/y \n",
    "e"
   ]
  },
  {
   "cell_type": "code",
   "execution_count": null,
   "id": "fbb8d045",
   "metadata": {},
   "outputs": [],
   "source": [
    "#exponensial\n",
    "x=2\n",
    "y=5\n",
    "f=x**y   \n",
    "f"
   ]
  },
  {
   "cell_type": "code",
   "execution_count": null,
   "id": "8d2f7864",
   "metadata": {},
   "outputs": [],
   "source": [
    "## Floor division\n",
    "x=100\n",
    "y=9\n",
    "g=x//y   \n",
    "g"
   ]
  },
  {
   "cell_type": "markdown",
   "id": "bcc71464",
   "metadata": {},
   "source": [
    "### Logical Operatorbb"
   ]
  },
  {
   "cell_type": "code",
   "execution_count": null,
   "id": "213eb78f",
   "metadata": {},
   "outputs": [],
   "source": [
    "## code implementation for \"and operator\"\n",
    "x=10\n",
    "print(x>2 and x<20)"
   ]
  },
  {
   "cell_type": "code",
   "execution_count": null,
   "id": "ed07e90e",
   "metadata": {},
   "outputs": [],
   "source": [
    "x=50\n",
    "print(x>25 and x>90)"
   ]
  },
  {
   "cell_type": "code",
   "execution_count": null,
   "id": "f2e42dd3",
   "metadata": {},
   "outputs": [],
   "source": [
    "a=30\n",
    "print(a>10 and a>15)"
   ]
  },
  {
   "cell_type": "code",
   "execution_count": null,
   "id": "deb9c158",
   "metadata": {},
   "outputs": [],
   "source": [
    "#### code implementation for \"or operations\"\n",
    "x=20\n",
    "print(x>12 or x<10)\n",
    "#return True because one of the conditions is true (20 is greater than 12)\n",
    "# but 20 is not lss than 4"
   ]
  },
  {
   "cell_type": "code",
   "execution_count": null,
   "id": "3c906fd8",
   "metadata": {},
   "outputs": [],
   "source": [
    "x=100\n",
    "print (x<500 or x<30)"
   ]
  },
  {
   "cell_type": "code",
   "execution_count": null,
   "id": "7835a20c",
   "metadata": {},
   "outputs": [],
   "source": [
    "## Code for \"Not\" ope\n",
    "x=5\n",
    "print(not(x>3 and x<10)) # 5 is grater than 3 and 5 is lessrer than 10. And id used.so o/p must be"
   ]
  },
  {
   "cell_type": "code",
   "execution_count": null,
   "id": "c6018bde",
   "metadata": {},
   "outputs": [],
   "source": [
    "## qual operator\n",
    "x=15\n",
    "y=9\n",
    "print(x==y)\n",
    "# return false because 15 is not equal to 9"
   ]
  },
  {
   "cell_type": "code",
   "execution_count": null,
   "id": "330b1702",
   "metadata": {},
   "outputs": [],
   "source": [
    "## code for greater than operator\n",
    "x=50\n",
    "y=30\n",
    "print(x>y)\n",
    "##Return true because 50 is greater than 30"
   ]
  },
  {
   "cell_type": "markdown",
   "id": "5428805a",
   "metadata": {},
   "source": [
    "### Assignment Operator"
   ]
  },
  {
   "cell_type": "code",
   "execution_count": null,
   "id": "89e52cb5",
   "metadata": {},
   "outputs": [],
   "source": [
    "x=5\n",
    "print(x) "
   ]
  },
  {
   "cell_type": "code",
   "execution_count": null,
   "id": "31418aab",
   "metadata": {},
   "outputs": [],
   "source": [
    "x=5\n",
    "x+=3 # 5+3\n",
    "print(x)"
   ]
  },
  {
   "cell_type": "code",
   "execution_count": null,
   "id": "c7407f3d",
   "metadata": {},
   "outputs": [],
   "source": [
    "x=5\n",
    "x-=3 #5-3\n",
    "print(x)"
   ]
  },
  {
   "cell_type": "code",
   "execution_count": null,
   "id": "7ef9f8e8",
   "metadata": {},
   "outputs": [],
   "source": [
    "x=5 \n",
    "x*=3 #5*3\n",
    "print(x)"
   ]
  },
  {
   "cell_type": "code",
   "execution_count": null,
   "id": "5a2f71a8",
   "metadata": {},
   "outputs": [],
   "source": [
    "x=5\n",
    "x/=3 #5/3\n",
    "print(x)"
   ]
  },
  {
   "cell_type": "code",
   "execution_count": null,
   "id": "130161fc",
   "metadata": {},
   "outputs": [],
   "source": [
    "x=5\n",
    "x%=3 #5%3\n",
    "print(x)"
   ]
  },
  {
   "cell_type": "code",
   "execution_count": null,
   "id": "8feb4a01",
   "metadata": {},
   "outputs": [],
   "source": [
    "x=12\n",
    "x//=3  #5//3\n",
    "print(x)"
   ]
  },
  {
   "cell_type": "code",
   "execution_count": null,
   "id": "5ec7186a",
   "metadata": {},
   "outputs": [],
   "source": [
    "x=7\n",
    "x**=3 #5*5*5\n",
    "print(x)"
   ]
  },
  {
   "cell_type": "code",
   "execution_count": null,
   "id": "308abd35",
   "metadata": {},
   "outputs": [],
   "source": [
    "x=23\n",
    "x&=3 #???\n",
    "print(x)"
   ]
  },
  {
   "cell_type": "code",
   "execution_count": null,
   "id": "a9cad8df",
   "metadata": {},
   "outputs": [],
   "source": [
    "x=10\n",
    "x|-3\n",
    "print(x)"
   ]
  },
  {
   "cell_type": "code",
   "execution_count": null,
   "id": "434c9912",
   "metadata": {},
   "outputs": [],
   "source": [
    "x=10\n",
    "x^=3\n",
    "print(x)"
   ]
  },
  {
   "cell_type": "code",
   "execution_count": null,
   "id": "16979183",
   "metadata": {},
   "outputs": [],
   "source": [
    "x=10\n",
    "x>>=3\n",
    "print(x)"
   ]
  },
  {
   "cell_type": "code",
   "execution_count": null,
   "id": "18611ba5",
   "metadata": {},
   "outputs": [],
   "source": [
    "x=5\n",
    "x<<=3\n",
    "print(x)"
   ]
  },
  {
   "cell_type": "markdown",
   "id": "56491103",
   "metadata": {},
   "source": [
    "x=5\n",
    "x=x>>3\n",
    "print(x)"
   ]
  },
  {
   "cell_type": "code",
   "execution_count": null,
   "id": "cdbfe309",
   "metadata": {},
   "outputs": [],
   "source": [
    "x=5\n",
    "x=x>>3\n",
    "print(x)"
   ]
  },
  {
   "cell_type": "code",
   "execution_count": null,
   "id": "45bc2bfb",
   "metadata": {},
   "outputs": [],
   "source": [
    "x=5\n",
    "x=x%3\n",
    "print(x)"
   ]
  },
  {
   "cell_type": "code",
   "execution_count": null,
   "id": "6e545eb7",
   "metadata": {},
   "outputs": [],
   "source": [
    "x=5\n",
    "x=x<<3\n",
    "print(x)"
   ]
  },
  {
   "cell_type": "code",
   "execution_count": null,
   "id": "ae73317a",
   "metadata": {},
   "outputs": [],
   "source": [
    "x=5\n",
    "x^=3\n",
    "print(x)"
   ]
  },
  {
   "cell_type": "code",
   "execution_count": null,
   "id": "97707cfc",
   "metadata": {},
   "outputs": [],
   "source": [
    "x=5\n",
    "x>>=3\n",
    "print(x)"
   ]
  },
  {
   "cell_type": "markdown",
   "id": "d15eb922",
   "metadata": {},
   "source": [
    "#### Escape Character"
   ]
  },
  {
   "cell_type": "code",
   "execution_count": null,
   "id": "5c345215",
   "metadata": {},
   "outputs": [],
   "source": [
    "intro=\"Hello sir,this is jyoti\"s bag\"\n",
    "print(intro)"
   ]
  },
  {
   "cell_type": "code",
   "execution_count": null,
   "id": "33356085",
   "metadata": {},
   "outputs": [],
   "source": [
    "intro=\"Hello sir,this is jyoti\\\"s bag\"\n",
    "print(intro)"
   ]
  },
  {
   "cell_type": "markdown",
   "id": "d06fca83",
   "metadata": {},
   "source": [
    "### List of Escape Character"
   ]
  },
  {
   "cell_type": "markdown",
   "id": "f4e6264c",
   "metadata": {},
   "source": [
    "### \\n"
   ]
  },
  {
   "cell_type": "code",
   "execution_count": null,
   "id": "81fadea4",
   "metadata": {},
   "outputs": [],
   "source": [
    "me=\"hello jyoti \\nwhere are you going?\"\n",
    "print(me)\n"
   ]
  },
  {
   "cell_type": "markdown",
   "id": "8c9e841f",
   "metadata": {},
   "source": [
    "### \\t"
   ]
  },
  {
   "cell_type": "code",
   "execution_count": null,
   "id": "1012052a",
   "metadata": {},
   "outputs": [],
   "source": [
    "me=\"hello jyyo \\tWhere are u going now?\"\n",
    "print(me)"
   ]
  },
  {
   "cell_type": "markdown",
   "id": "1d8c835e",
   "metadata": {},
   "source": [
    "### Format Specifier"
   ]
  },
  {
   "cell_type": "code",
   "execution_count": null,
   "id": "7797a935",
   "metadata": {},
   "outputs": [],
   "source": [
    "name=\"jyo\"\n",
    "print(\"hi,%s!\"%name)"
   ]
  },
  {
   "cell_type": "code",
   "execution_count": null,
   "id": "9642d1f3",
   "metadata": {},
   "outputs": [],
   "source": [
    "name=\"jyo\"\n",
    "time=9\n",
    "print(\"%s ,i will come back at %d am\"%(name,time))\n"
   ]
  },
  {
   "cell_type": "markdown",
   "id": "fe9538e7",
   "metadata": {},
   "source": [
    "### List \n"
   ]
  },
  {
   "cell_type": "code",
   "execution_count": null,
   "id": "ed6b2a58",
   "metadata": {},
   "outputs": [],
   "source": [
    "#index\n",
    "l=[\"p\",\"y\",\"t\",\"h\",\"o\",\"n\"]\n",
    "l[-7:-1]\n",
    "#print(l)\n",
    "l[1:3]\n",
    "print(l)"
   ]
  },
  {
   "cell_type": "code",
   "execution_count": null,
   "id": "8a889456",
   "metadata": {},
   "outputs": [],
   "source": [
    "l[-7:-1]\n",
    "print(l)"
   ]
  },
  {
   "cell_type": "code",
   "execution_count": null,
   "id": "24b9857a",
   "metadata": {},
   "outputs": [],
   "source": [
    "print(l[0])"
   ]
  },
  {
   "cell_type": "code",
   "execution_count": null,
   "id": "3a9e3618",
   "metadata": {},
   "outputs": [],
   "source": []
  },
  {
   "cell_type": "code",
   "execution_count": null,
   "id": "767bb9cb",
   "metadata": {},
   "outputs": [],
   "source": [
    "print(l[1:3])"
   ]
  },
  {
   "cell_type": "code",
   "execution_count": null,
   "id": "2ccca6b4",
   "metadata": {},
   "outputs": [],
   "source": [
    "## Slicing\n",
    "l=(l[5])\n",
    "print(l)"
   ]
  },
  {
   "cell_type": "code",
   "execution_count": null,
   "id": "bb15cace",
   "metadata": {},
   "outputs": [],
   "source": [
    "#Change item in List\n",
    "fruit=[\"mango\",\"banana\",\"apple\",\"pine\"]\n",
    "fruit[2]=\"Grapes\"\n",
    "print(fruit)"
   ]
  },
  {
   "cell_type": "code",
   "execution_count": null,
   "id": "b02181f9",
   "metadata": {},
   "outputs": [],
   "source": []
  },
  {
   "cell_type": "code",
   "execution_count": null,
   "id": "bf694615",
   "metadata": {},
   "outputs": [],
   "source": [
    "#Adding in List\n",
    "fruit=[\"mango\",\"banana\",\"apple\",\"pine\"]\n",
    "fruit.append(\"grapes\")\n",
    "print(fruit)"
   ]
  },
  {
   "cell_type": "code",
   "execution_count": null,
   "id": "2f3ccc7b",
   "metadata": {},
   "outputs": [],
   "source": [
    "##Remove in \n",
    "fruit=[\"mango\",\"banana\",\"apple\",\"pine\"]\n",
    "fruit.pop(2)\n",
    "print(fruit)"
   ]
  },
  {
   "cell_type": "code",
   "execution_count": null,
   "id": "923397c4",
   "metadata": {},
   "outputs": [],
   "source": [
    "x=6\n",
    "x&=4\n",
    "x"
   ]
  },
  {
   "cell_type": "code",
   "execution_count": null,
   "id": "1b472c94",
   "metadata": {},
   "outputs": [],
   "source": [
    "x=12\n",
    "x|=3\n",
    "x"
   ]
  },
  {
   "cell_type": "code",
   "execution_count": null,
   "id": "66e59909",
   "metadata": {},
   "outputs": [],
   "source": [
    "x=15\n",
    "x&=5\n",
    "x"
   ]
  },
  {
   "cell_type": "code",
   "execution_count": null,
   "id": "e1a74444",
   "metadata": {},
   "outputs": [],
   "source": [
    "x=4\n",
    "x<<=2\n",
    "x"
   ]
  },
  {
   "cell_type": "code",
   "execution_count": null,
   "id": "78117e73",
   "metadata": {},
   "outputs": [],
   "source": [
    "intro=\"Hello sir,is this jyo\"s bag.\"\n",
    "print(intro)\n"
   ]
  },
  {
   "cell_type": "code",
   "execution_count": null,
   "id": "2da33e5c",
   "metadata": {},
   "outputs": [],
   "source": [
    "intro=\"Hello sir,is this jyo\\\"s bag.\"\n",
    "print(intro)"
   ]
  },
  {
   "cell_type": "code",
   "execution_count": null,
   "id": "f38b5116",
   "metadata": {},
   "outputs": [],
   "source": [
    "intro='''hello sir \\\"s  ,ok'''\n",
    "print(intro)\n"
   ]
  },
  {
   "cell_type": "code",
   "execution_count": null,
   "id": "0add9b79",
   "metadata": {},
   "outputs": [],
   "source": [
    "jyo=\"hey\\n love \\nwhere are you\\n going?\"\n",
    "print(jyo)"
   ]
  },
  {
   "cell_type": "code",
   "execution_count": null,
   "id": "5c435d03",
   "metadata": {},
   "outputs": [],
   "source": [
    "jyo=\"hey\\t love \\n \\twhere are \\nyou going?\"\n",
    "print(jyo)"
   ]
  },
  {
   "cell_type": "code",
   "execution_count": null,
   "id": "9618ac8c",
   "metadata": {},
   "outputs": [],
   "source": [
    "## format specifier\n",
    "name=\"jyo\"\n",
    "print(\"hi,%s!\"%name)"
   ]
  },
  {
   "cell_type": "markdown",
   "id": "e7dc8f90",
   "metadata": {},
   "source": [
    "name=\"jyo\"\n",
    "time=9\n",
    "print(\"%s ,i will come back at %d am\" % (name,time))"
   ]
  },
  {
   "cell_type": "markdown",
   "id": "31863db3",
   "metadata": {},
   "source": [
    "### Set Data Type"
   ]
  },
  {
   "cell_type": "code",
   "execution_count": null,
   "id": "6efacab2",
   "metadata": {},
   "outputs": [],
   "source": [
    "Days={\"Mon\",\"Tue\",\"Wed\",\"Ther\",\"Fri\",\"Sat\"}\n",
    "print(Days)\n",
    "print(type(Days))\n",
    "for i in Days:\n",
    "    print(i)"
   ]
  },
  {
   "cell_type": "markdown",
   "id": "a3eb9ecc",
   "metadata": {},
   "source": [
    "### Dictionary"
   ]
  },
  {
   "cell_type": "code",
   "execution_count": null,
   "id": "b1339d51",
   "metadata": {},
   "outputs": [],
   "source": [
    "Stud={0:\"Rupa\",1:\"Raj\",2:\"Ram\",3:\"Akki\",4:\"Jyo\"}\n",
    "print(Stud)"
   ]
  },
  {
   "cell_type": "code",
   "execution_count": null,
   "id": "1427c42f",
   "metadata": {},
   "outputs": [],
   "source": [
    "# Accessing Dictionary\n",
    "print(Stud[2])"
   ]
  },
  {
   "cell_type": "code",
   "execution_count": null,
   "id": "41c68b2f",
   "metadata": {},
   "outputs": [],
   "source": [
    "#Changing Dictionary\n",
    "Stud[2]=\"Valiv\"\n",
    "print(Stud)"
   ]
  },
  {
   "cell_type": "code",
   "execution_count": null,
   "id": "63a70c1f",
   "metadata": {},
   "outputs": [],
   "source": [
    "# Add Item\n",
    "Stud[5]=\"Ganesh\"\n",
    "print(Stud)"
   ]
  },
  {
   "cell_type": "markdown",
   "id": "d38ec2f8",
   "metadata": {},
   "source": [
    "### List,Tuple,Dictionary,Set"
   ]
  },
  {
   "cell_type": "code",
   "execution_count": null,
   "id": "b174d2bf",
   "metadata": {},
   "outputs": [],
   "source": [
    "x=(\"apple\",\"banana\",\"cherry\")\n",
    "type(x)"
   ]
  },
  {
   "cell_type": "code",
   "execution_count": null,
   "id": "6ab4e942",
   "metadata": {},
   "outputs": [],
   "source": [
    "type(x)"
   ]
  },
  {
   "cell_type": "code",
   "execution_count": null,
   "id": "f8400b4d",
   "metadata": {},
   "outputs": [],
   "source": [
    "len(x)\n",
    "print(x)"
   ]
  },
  {
   "cell_type": "code",
   "execution_count": null,
   "id": "e51f3010",
   "metadata": {},
   "outputs": [],
   "source": [
    "x=(\"apple\",\"banana\",\"cherry\")\n",
    "x.append(\"mango\")\n",
    "print(x)"
   ]
  },
  {
   "cell_type": "code",
   "execution_count": null,
   "id": "53288594",
   "metadata": {},
   "outputs": [],
   "source": [
    "sample_list=[12,4.3,\"hi\",1+3j]\n",
    "sample_list"
   ]
  },
  {
   "cell_type": "code",
   "execution_count": null,
   "id": "7828e55e",
   "metadata": {},
   "outputs": [],
   "source": [
    "type(sample_list)"
   ]
  },
  {
   "cell_type": "code",
   "execution_count": null,
   "id": "5b1aebc5",
   "metadata": {},
   "outputs": [],
   "source": [
    "sample_list[0]\n",
    "print(sample_list)"
   ]
  },
  {
   "cell_type": "code",
   "execution_count": null,
   "id": "24eaf050",
   "metadata": {},
   "outputs": [],
   "source": [
    "sample_list(6)\n",
    "print(sample_list)"
   ]
  },
  {
   "cell_type": "code",
   "execution_count": null,
   "id": "c5c0942e",
   "metadata": {},
   "outputs": [],
   "source": [
    "sample_list=[12,4.3,\"hi\",1+3j]\n",
    "sample_list(-2)\n",
    "print(sample_list)"
   ]
  },
  {
   "cell_type": "code",
   "execution_count": null,
   "id": "fbbabddc",
   "metadata": {},
   "outputs": [],
   "source": [
    "sample_list=[12,4.3,\"hi\",1+3j]\n",
    "sample_list[1:5]\n",
    "print(sample_list)"
   ]
  },
  {
   "cell_type": "code",
   "execution_count": null,
   "id": "ac2339f3",
   "metadata": {},
   "outputs": [],
   "source": []
  },
  {
   "cell_type": "code",
   "execution_count": null,
   "id": "933c8f67",
   "metadata": {},
   "outputs": [],
   "source": [
    "list=[\"P\",\"Y\",\"T\",\"O\",\"n\"]\n",
    "list"
   ]
  },
  {
   "cell_type": "code",
   "execution_count": null,
   "id": "78fa023c",
   "metadata": {},
   "outputs": [],
   "source": [
    "list=[\"P\",\"Y\",\"T\",\"O\",\"n\"]\n",
    "\n",
    "print(len(list))"
   ]
  },
  {
   "cell_type": "code",
   "execution_count": null,
   "id": "640562c3",
   "metadata": {},
   "outputs": [],
   "source": [
    "9print(list[1:3])"
   ]
  },
  {
   "cell_type": "code",
   "execution_count": null,
   "id": "08705eb4",
   "metadata": {},
   "outputs": [],
   "source": [
    "print(list[-6])"
   ]
  },
  {
   "cell_type": "code",
   "execution_count": null,
   "id": "8a643c85",
   "metadata": {},
   "outputs": [],
   "source": [
    "print(list[-7:-2])"
   ]
  },
  {
   "cell_type": "code",
   "execution_count": null,
   "id": "1d6ca8fd",
   "metadata": {},
   "outputs": [],
   "source": [
    "fruit=[\"Apple\",\"Banana\",\"pine\",\"Grapes\"]\n",
    "fruit.append(\"Mango\")\n",
    "print(fruit)"
   ]
  },
  {
   "cell_type": "code",
   "execution_count": null,
   "id": "a3f02e9f",
   "metadata": {},
   "outputs": [],
   "source": [
    "fruit.insert(2,\"Orange\")\n",
    "print(fruit)"
   ]
  },
  {
   "cell_type": "code",
   "execution_count": null,
   "id": "7a7fada8",
   "metadata": {},
   "outputs": [],
   "source": [
    "fruit.insert(6,\"jamun\")\n",
    "print(fruit)"
   ]
  },
  {
   "cell_type": "code",
   "execution_count": null,
   "id": "32a5cb3e",
   "metadata": {},
   "outputs": [],
   "source": [
    "fruit.insert(7,\"Orange\")\n",
    "print(fruit)"
   ]
  },
  {
   "cell_type": "code",
   "execution_count": null,
   "id": "31910cbf",
   "metadata": {},
   "outputs": [],
   "source": [
    "fruit.index(\"Orange\")\n",
    "print(fruit)"
   ]
  },
  {
   "cell_type": "code",
   "execution_count": null,
   "id": "13ce644e",
   "metadata": {},
   "outputs": [],
   "source": [
    "fruit.sort()\n",
    "print(fruit)"
   ]
  },
  {
   "cell_type": "code",
   "execution_count": null,
   "id": "b75f1c89",
   "metadata": {},
   "outputs": [],
   "source": [
    "fruit.sort()\n",
    "print(fruit)"
   ]
  },
  {
   "cell_type": "code",
   "execution_count": null,
   "id": "1d521d3a",
   "metadata": {},
   "outputs": [],
   "source": [
    "fruit.pop(2)\n",
    "print(fruit)"
   ]
  },
  {
   "cell_type": "code",
   "execution_count": null,
   "id": "0d9f082c",
   "metadata": {},
   "outputs": [],
   "source": [
    "fruit.pop(0)\n",
    "print(fruit)"
   ]
  },
  {
   "cell_type": "code",
   "execution_count": null,
   "id": "b40f555a",
   "metadata": {},
   "outputs": [],
   "source": [
    "A=[1,2.3,'Raj',2+3j]\n",
    "A.index(1)\n",
    "print(A)"
   ]
  },
  {
   "cell_type": "markdown",
   "id": "116e5f6c",
   "metadata": {},
   "source": [
    "### Tuple"
   ]
  },
  {
   "cell_type": "code",
   "execution_count": null,
   "id": "c410a175",
   "metadata": {
    "scrolled": true
   },
   "outputs": [],
   "source": [
    "sample_tuple=(1,43,56,3.5,\"hi\",'1+2j')\n",
    "print(sample_tuple)"
   ]
  },
  {
   "cell_type": "code",
   "execution_count": null,
   "id": "a94098bc",
   "metadata": {},
   "outputs": [],
   "source": [
    "type(sample_tuple)"
   ]
  },
  {
   "cell_type": "code",
   "execution_count": null,
   "id": "7385e19f",
   "metadata": {},
   "outputs": [],
   "source": [
    "sample_tuple[3]"
   ]
  },
  {
   "cell_type": "code",
   "execution_count": null,
   "id": "ace50301",
   "metadata": {},
   "outputs": [],
   "source": [
    "list=10,20,30,40,50,5.9,'hi'\n",
    "type(list)"
   ]
  },
  {
   "cell_type": "code",
   "execution_count": null,
   "id": "7f4c5dc4",
   "metadata": {},
   "outputs": [],
   "source": [
    "sample_tuple[0]"
   ]
  },
  {
   "cell_type": "code",
   "execution_count": null,
   "id": "9eace593",
   "metadata": {},
   "outputs": [],
   "source": [
    "fruit=('apple','bababa','grapes','orange','pine')\n",
    "f=list(fruit) # Converting tuple into list\n",
    "f.append('carrot')\n",
    "print(f)"
   ]
  },
  {
   "cell_type": "code",
   "execution_count": null,
   "id": "8e3967cb",
   "metadata": {},
   "outputs": [],
   "source": [
    "f.insert(3,\"cherry\")\n",
    "print(f)"
   ]
  },
  {
   "cell_type": "code",
   "execution_count": null,
   "id": "353c430e",
   "metadata": {},
   "outputs": [],
   "source": [
    "f.index(\"orange\")\n",
    "print(f)"
   ]
  },
  {
   "cell_type": "code",
   "execution_count": null,
   "id": "d3fcbcab",
   "metadata": {},
   "outputs": [],
   "source": [
    "f.sort()\n",
    "print(fruit)"
   ]
  },
  {
   "cell_type": "code",
   "execution_count": null,
   "id": "1ffb60fb",
   "metadata": {},
   "outputs": [],
   "source": [
    "f.pop(0)\n",
    "print(f)"
   ]
  },
  {
   "cell_type": "code",
   "execution_count": null,
   "id": "f13eca4a",
   "metadata": {},
   "outputs": [],
   "source": [
    "f.pop(2)\n",
    "print(f)"
   ]
  },
  {
   "cell_type": "code",
   "execution_count": null,
   "id": "6b04d03e",
   "metadata": {},
   "outputs": [],
   "source": [
    "### Set"
   ]
  },
  {
   "cell_type": "code",
   "execution_count": null,
   "id": "bf2a5d2a",
   "metadata": {},
   "outputs": [],
   "source": [
    "sample_set={1,43,23,45,67,22,21,32,0,66,66,0,23,43,1,2.3,'a',\"abc\"}\n",
    "type(sample_set)\n",
    "print(sample_set)"
   ]
  },
  {
   "cell_type": "code",
   "execution_count": null,
   "id": "d58a2851",
   "metadata": {},
   "outputs": [],
   "source": [
    "sample_set[3]"
   ]
  },
  {
   "cell_type": "code",
   "execution_count": null,
   "id": "c77bdac7",
   "metadata": {},
   "outputs": [],
   "source": [
    "sample_set[3]=188\n",
    "print(sample_set)"
   ]
  },
  {
   "cell_type": "code",
   "execution_count": null,
   "id": "7fcda426",
   "metadata": {},
   "outputs": [],
   "source": [
    "sample_set.remove(43)\n",
    "print(sample_set)"
   ]
  },
  {
   "cell_type": "code",
   "execution_count": null,
   "id": "33f03add",
   "metadata": {},
   "outputs": [],
   "source": [
    "a={23,12,12,56,67,89,78,90,56}\n",
    "print(a)"
   ]
  },
  {
   "cell_type": "code",
   "execution_count": null,
   "id": "7f16f927",
   "metadata": {},
   "outputs": [],
   "source": [
    "a.add(\"jyo\")"
   ]
  },
  {
   "cell_type": "code",
   "execution_count": null,
   "id": "e17fdf30",
   "metadata": {},
   "outputs": [],
   "source": [
    "print(a)"
   ]
  },
  {
   "cell_type": "code",
   "execution_count": null,
   "id": "913f0cae",
   "metadata": {},
   "outputs": [],
   "source": [
    "a.remove('jyo')"
   ]
  },
  {
   "cell_type": "code",
   "execution_count": null,
   "id": "c7f843e3",
   "metadata": {},
   "outputs": [],
   "source": [
    "print(a)"
   ]
  },
  {
   "cell_type": "markdown",
   "id": "5d6042fb",
   "metadata": {},
   "source": [
    "### List v/s Tupleb\n",
    "1.List is denoted by square brackets[] where as Tuple is denoted by parenthesisi()\n",
    "2.List is mutable (element can be modified) Tuple is immutable(element cant be modified)"
   ]
  },
  {
   "cell_type": "code",
   "execution_count": null,
   "id": "346d8f8e",
   "metadata": {},
   "outputs": [],
   "source": [
    "bio=[\"jyo\",25,'B+',169]\n",
    "bio[3]"
   ]
  },
  {
   "cell_type": "code",
   "execution_count": null,
   "id": "246509fc",
   "metadata": {},
   "outputs": [],
   "source": [
    "bio[3]"
   ]
  },
  {
   "cell_type": "code",
   "execution_count": null,
   "id": "50ba8c84",
   "metadata": {},
   "outputs": [],
   "source": [
    "bio.index('B+')\n",
    "print(bio)"
   ]
  },
  {
   "cell_type": "code",
   "execution_count": null,
   "id": "32a376c8",
   "metadata": {},
   "outputs": [],
   "source": [
    "bio.insert(2,'F')\n",
    "print(bio)"
   ]
  },
  {
   "cell_type": "code",
   "execution_count": null,
   "id": "7a758e4a",
   "metadata": {},
   "outputs": [],
   "source": [
    "bio.remove(1)\n",
    "print(bio)"
   ]
  },
  {
   "cell_type": "markdown",
   "id": "2e437d3a",
   "metadata": {},
   "source": [
    "### Dictionary"
   ]
  },
  {
   "cell_type": "code",
   "execution_count": null,
   "id": "5772b62b",
   "metadata": {},
   "outputs": [],
   "source": [
    "bio={\n",
    "    'name':'Jyoti',\n",
    "    'age':25,\n",
    "    'weight':70,\n",
    "    'height':175\n",
    "}\n",
    "bio.keys()"
   ]
  },
  {
   "cell_type": "code",
   "execution_count": null,
   "id": "398e2e4c",
   "metadata": {},
   "outputs": [],
   "source": [
    "bio.values()"
   ]
  },
  {
   "cell_type": "code",
   "execution_count": null,
   "id": "0239d587",
   "metadata": {},
   "outputs": [],
   "source": [
    "bio['name']"
   ]
  },
  {
   "cell_type": "code",
   "execution_count": null,
   "id": "d42140f0",
   "metadata": {},
   "outputs": [],
   "source": [
    "bio['age']"
   ]
  },
  {
   "cell_type": "code",
   "execution_count": null,
   "id": "0fe3b281",
   "metadata": {},
   "outputs": [],
   "source": [
    "a={'name':'jyo','age':25,\"height\":165,\"gender\":\"F\",\"weight\":60}\n",
    "a"
   ]
  },
  {
   "cell_type": "code",
   "execution_count": null,
   "id": "017c09a4",
   "metadata": {},
   "outputs": [],
   "source": [
    "a['gender']=\"M\"\n",
    "print(a)"
   ]
  },
  {
   "cell_type": "markdown",
   "id": "efe6ebaf",
   "metadata": {},
   "source": [
    "### String"
   ]
  },
  {
   "cell_type": "code",
   "execution_count": 18,
   "id": "1c60e825",
   "metadata": {},
   "outputs": [
    {
     "data": {
      "text/plain": [
       "'Hello My name is Jyoti'"
      ]
     },
     "execution_count": 18,
     "metadata": {},
     "output_type": "execute_result"
    }
   ],
   "source": [
    "String=\"Hello My name is Jyoti\"\n",
    "String"
   ]
  },
  {
   "cell_type": "code",
   "execution_count": 19,
   "id": "bc89184a",
   "metadata": {},
   "outputs": [
    {
     "data": {
      "text/plain": [
       "str"
      ]
     },
     "execution_count": 19,
     "metadata": {},
     "output_type": "execute_result"
    }
   ],
   "source": [
    "type(String)"
   ]
  },
  {
   "cell_type": "code",
   "execution_count": 20,
   "id": "6db3c372",
   "metadata": {},
   "outputs": [
    {
     "data": {
      "text/plain": [
       "'o'"
      ]
     },
     "execution_count": 20,
     "metadata": {},
     "output_type": "execute_result"
    }
   ],
   "source": [
    "String[4]"
   ]
  },
  {
   "cell_type": "code",
   "execution_count": 22,
   "id": "2dd76177",
   "metadata": {},
   "outputs": [
    {
     "ename": "AttributeError",
     "evalue": "'str' object has no attribute 'range'",
     "output_type": "error",
     "traceback": [
      "\u001b[1;31m---------------------------------------------------------------------------\u001b[0m",
      "\u001b[1;31mAttributeError\u001b[0m                            Traceback (most recent call last)",
      "\u001b[1;32m<ipython-input-22-a8aa32d6ce59>\u001b[0m in \u001b[0;36m<module>\u001b[1;34m\u001b[0m\n\u001b[0;32m      1\u001b[0m \u001b[1;32mfor\u001b[0m \u001b[0mi\u001b[0m \u001b[1;32min\u001b[0m \u001b[0mString\u001b[0m\u001b[1;33m:\u001b[0m\u001b[1;33m\u001b[0m\u001b[1;33m\u001b[0m\u001b[0m\n\u001b[1;32m----> 2\u001b[1;33m     \u001b[0mi\u001b[0m\u001b[1;33m.\u001b[0m\u001b[0mrange\u001b[0m\u001b[1;33m(\u001b[0m\u001b[1;33m)\u001b[0m\u001b[1;33m\u001b[0m\u001b[1;33m\u001b[0m\u001b[0m\n\u001b[0m\u001b[0;32m      3\u001b[0m     \u001b[0mprint\u001b[0m\u001b[1;33m(\u001b[0m\u001b[0mi\u001b[0m\u001b[1;33m)\u001b[0m\u001b[1;33m\u001b[0m\u001b[1;33m\u001b[0m\u001b[0m\n",
      "\u001b[1;31mAttributeError\u001b[0m: 'str' object has no attribute 'range'"
     ]
    }
   ],
   "source": [
    "for i in String:\n",
    "    i.range()\n",
    "    print(i)"
   ]
  },
  {
   "cell_type": "code",
   "execution_count": null,
   "id": "36429f0e",
   "metadata": {},
   "outputs": [],
   "source": []
  }
 ],
 "metadata": {
  "kernelspec": {
   "display_name": "Python 3",
   "language": "python",
   "name": "python3"
  },
  "language_info": {
   "codemirror_mode": {
    "name": "ipython",
    "version": 3
   },
   "file_extension": ".py",
   "mimetype": "text/x-python",
   "name": "python",
   "nbconvert_exporter": "python",
   "pygments_lexer": "ipython3",
   "version": "3.8.8"
  }
 },
 "nbformat": 4,
 "nbformat_minor": 5
}
