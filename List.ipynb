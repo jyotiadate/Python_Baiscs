{
 "cells": [
  {
   "cell_type": "markdown",
   "id": "5cea1fad",
   "metadata": {},
   "source": [
    "### List\n"
   ]
  },
  {
   "cell_type": "code",
   "execution_count": null,
   "id": "168d4838",
   "metadata": {},
   "outputs": [],
   "source": [
    "a=[\"J\",\"Y\",\"o\",\"T\",\"I\"]\n",
    "print(a)"
   ]
  },
  {
   "cell_type": "code",
   "execution_count": null,
   "id": "a379780d",
   "metadata": {},
   "outputs": [],
   "source": [
    "a[1]\n",
    "a"
   ]
  },
  {
   "cell_type": "code",
   "execution_count": null,
   "id": "a700db45",
   "metadata": {},
   "outputs": [],
   "source": [
    "a.index\n",
    "a"
   ]
  },
  {
   "cell_type": "code",
   "execution_count": null,
   "id": "0354746b",
   "metadata": {},
   "outputs": [],
   "source": [
    "a[1:3]\n",
    "print(a)"
   ]
  },
  {
   "cell_type": "code",
   "execution_count": null,
   "id": "bcd023dd",
   "metadata": {},
   "outputs": [],
   "source": [
    "a=[\"J\",\"Y\",\"o\",\"T\",\"I\"]\n",
    "a=a[3]\n",
    "print(a)\n",
    "print(type(a))"
   ]
  },
  {
   "cell_type": "code",
   "execution_count": null,
   "id": "8f0ed50f",
   "metadata": {},
   "outputs": [],
   "source": [
    "a=a[-5:-1]\n",
    "print(a)"
   ]
  },
  {
   "cell_type": "code",
   "execution_count": null,
   "id": "c45c290b",
   "metadata": {},
   "outputs": [],
   "source": [
    "days=[\"Mon\",\"Tue\",\"Wed\",\"Thur\",\"Fri\",\"Sat\",\"Sun\"]\n",
    "days\n",
    "print(type(days))"
   ]
  },
  {
   "cell_type": "code",
   "execution_count": null,
   "id": "e8fc188a",
   "metadata": {},
   "outputs": [],
   "source": [
    "print(days)"
   ]
  },
  {
   "cell_type": "code",
   "execution_count": null,
   "id": "daf1cbdc",
   "metadata": {},
   "outputs": [],
   "source": [
    "days.count(\"Mon\")"
   ]
  },
  {
   "cell_type": "code",
   "execution_count": null,
   "id": "ab7e8465",
   "metadata": {},
   "outputs": [],
   "source": [
    "days=days[1:3]\n",
    "print(days)\n"
   ]
  },
  {
   "cell_type": "code",
   "execution_count": null,
   "id": "97338c23",
   "metadata": {},
   "outputs": [],
   "source": [
    "# Add Item\n",
    "days=[\"Mon\",\"Tue\",\"Wed\",\"Thur\",\"Fri\",\"Sat\",\"Sun\"]\n",
    "days[2]=\"Jan\"\n",
    "print(days)"
   ]
  },
  {
   "cell_type": "code",
   "execution_count": null,
   "id": "8484d847",
   "metadata": {},
   "outputs": [],
   "source": [
    "# chenge Item\n",
    "days=[\"Mon\",\"Tue\",\"Wed\",\"Thur\",\"Fri\",\"Sat\",\"Sun\"]\n",
    "days.append(\"feb\")\n",
    "print(days)"
   ]
  },
  {
   "cell_type": "code",
   "execution_count": null,
   "id": "caf8c8b2",
   "metadata": {},
   "outputs": [],
   "source": [
    "# Remove Item\n",
    "days=[\"Mon\",\"Tue\",\"Wed\",\"Thur\",\"Fri\",\"Sat\",\"Sun\"]\n",
    "days.remove(\"Wed\")\n",
    "print(days)"
   ]
  },
  {
   "cell_type": "code",
   "execution_count": null,
   "id": "e822e221",
   "metadata": {},
   "outputs": [],
   "source": [
    "# Remove  \n",
    "days=[\"Mon\",\"Tue\",\"Wed\",\"Thur\",\"Fri\",\"Sat\",\"Sun\"]\n",
    "days.pop(2)\n",
    "print(days)"
   ]
  },
  {
   "cell_type": "code",
   "execution_count": null,
   "id": "f4313851",
   "metadata": {},
   "outputs": [],
   "source": [
    "mylist = [1, 2, 3, 4, 4, 4, 5, 5, 'a', 'b']\n",
    "#print(mylist)\n",
    "mylist.index(4)\n",
    "#print(mylist)\n",
    "mylist.count(4)\n",
    "print(mylist)"
   ]
  },
  {
   "cell_type": "code",
   "execution_count": null,
   "id": "3e4304c7",
   "metadata": {},
   "outputs": [],
   "source": [
    "mylist = [1, 2, 3, 4, 4, 4, 5, 5, 'a', 'b']\n",
    "mylist.count(4)\n",
    "mylist.count(\"a\")\n",
    "#count\n",
    "mylist.index(4)\n",
    "#index\n",
    "mylist[1:6]\n",
    "mylist[0]\n",
    "\n",
    "print(mylist)\n",
    "# remove item\n",
    "mylist.remove(\"b\")\n",
    "print(mylist)\n",
    "# remove item using poo\n",
    "mylist.pop(0)\n",
    "print(mylist)\n",
    "#change item\n",
    "mylist[2]=\"adate\"\n",
    "print(mylist)\n",
    "#add item\n",
    "mylist.append(\"my_love\")\n",
    "print(mylist)\n",
    "list=mylist.pop()\n",
    "print(list)\n",
    "list=mylist.remove('a')\n",
    "print(mylist)\n",
    "mylist.clear()\n",
    "print(mylist)\n",
    "mylist.append(\"Jyoti\")\n",
    "print(mylist)\n",
    "mylist.append(\"Akshay\")\n",
    "print(mylist)\n",
    "mylist.append(\"Valiv\")\n",
    "print(mylist)\n",
    "mylist.append(\"My_LOve\")\n",
    "print(mylist)\n",
    "mylist[0]=\"my_love\"\n",
    "print(mylist)\n",
    "mylist.pop(3)\n",
    "print(mylist)\n",
    "list=[\"Introducing\",\"My\",\"Happiness\"]\n",
    "print(list)\n",
    "list.append(mylist)\n",
    "print(list)\n",
    "# extend method\n",
    "list.extend(mylist)\n",
    "print(list)"
   ]
  },
  {
   "cell_type": "code",
   "execution_count": 3,
   "id": "f342ea97",
   "metadata": {},
   "outputs": [
    {
     "name": "stdout",
     "output_type": "stream",
     "text": [
      "['P', 'Y', 'T', 'H', 'O', 'N']\n",
      "['N', 'O', 'H', 'T', 'Y', 'P']\n",
      "['my_LOVE']\n"
     ]
    }
   ],
   "source": [
    "mylist1=list(\"PYTHON\")\n",
    "print(mylist1)\n",
    "# reverse\n",
    "mylist1.reverse()\n",
    "print(mylist1)\n",
    "my_other_list=[\"my_LOVE\"]\n",
    "print(my_other_list)\n",
    "mylist1.sort()"
   ]
  },
  {
   "cell_type": "code",
   "execution_count": null,
   "id": "bcf609cb",
   "metadata": {},
   "outputs": [],
   "source": []
  }
 ],
 "metadata": {
  "kernelspec": {
   "display_name": "Python 3",
   "language": "python",
   "name": "python3"
  },
  "language_info": {
   "codemirror_mode": {
    "name": "ipython",
    "version": 3
   },
   "file_extension": ".py",
   "mimetype": "text/x-python",
   "name": "python",
   "nbconvert_exporter": "python",
   "pygments_lexer": "ipython3",
   "version": "3.8.8"
  }
 },
 "nbformat": 4,
 "nbformat_minor": 5
}
