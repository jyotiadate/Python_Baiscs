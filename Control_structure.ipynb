{
 "cells": [
  {
   "cell_type": "markdown",
   "id": "80787992",
   "metadata": {},
   "source": [
    "### If Statement"
   ]
  },
  {
   "cell_type": "code",
   "execution_count": null,
   "id": "41aa2499",
   "metadata": {},
   "outputs": [],
   "source": [
    "a=10\n",
    "b=50\n",
    "if(b>a):\n",
    "    print(\"b is greater then a\")"
   ]
  },
  {
   "cell_type": "code",
   "execution_count": null,
   "id": "23cbf034",
   "metadata": {},
   "outputs": [],
   "source": [
    "a=100\n",
    "b=100\n",
    "if(b>a):\n",
    "    print(\"b is greater than a\")"
   ]
  },
  {
   "cell_type": "code",
   "execution_count": null,
   "id": "7eb57ebb",
   "metadata": {},
   "outputs": [],
   "source": [
    "a=30\n",
    "b=10\n",
    "if(b<a):\n",
    "    print(\"a is greater than b\")"
   ]
  },
  {
   "cell_type": "code",
   "execution_count": null,
   "id": "0d3d80f4",
   "metadata": {},
   "outputs": [],
   "source": [
    "a=30\n",
    "b=50\n",
    "if(b>a):\n",
    "print(\"b is greater than a\")"
   ]
  },
  {
   "cell_type": "code",
   "execution_count": null,
   "id": "8df34407",
   "metadata": {},
   "outputs": [],
   "source": [
    "a=30\n",
    "b=50\n",
    "if b>a:\n",
    "    print(\" b is greater than a\")"
   ]
  },
  {
   "cell_type": "code",
   "execution_count": null,
   "id": "ff764f5a",
   "metadata": {},
   "outputs": [],
   "source": [
    "a=300\n",
    "b=50\n",
    "if b>a:\n",
    "    print(\" b is greater than a\")### Condtion is false"
   ]
  },
  {
   "cell_type": "code",
   "execution_count": null,
   "id": "500e3a8c",
   "metadata": {},
   "outputs": [],
   "source": [
    "a=300\n",
    "b=300\n",
    "if b>a:\n",
    "    print(\" b is greater than a\")### Condtion is false"
   ]
  },
  {
   "cell_type": "code",
   "execution_count": null,
   "id": "105b13aa",
   "metadata": {},
   "outputs": [],
   "source": [
    "a=50\n",
    "b=50\n",
    "if b>a:\n",
    "print(\"b is greater a\") ### IndentationError : space for print is required"
   ]
  },
  {
   "cell_type": "code",
   "execution_count": null,
   "id": "f382caa3",
   "metadata": {},
   "outputs": [],
   "source": [
    "a=50\n",
    "b=50\n",
    "if b==a:\n",
    "    print(\"a is equal to b\")\n",
    "    "
   ]
  },
  {
   "cell_type": "code",
   "execution_count": null,
   "id": "d050e514",
   "metadata": {},
   "outputs": [],
   "source": [
    "a=100\n",
    "b=300\n",
    "if b!=a:\n",
    "    print(\"b is not equal a\")"
   ]
  },
  {
   "cell_type": "code",
   "execution_count": null,
   "id": "4c631ded",
   "metadata": {},
   "outputs": [],
   "source": [
    "a=100\n",
    "b=300\n",
    "if b<a:\n",
    "    print(\"a is lesser than b\")"
   ]
  },
  {
   "cell_type": "code",
   "execution_count": null,
   "id": "d51f095b",
   "metadata": {},
   "outputs": [],
   "source": [
    "a=100\n",
    "b=100\n",
    "if a>=b:\n",
    "    print(\"a is greater  than or equal to b\")"
   ]
  },
  {
   "cell_type": "markdown",
   "id": "e9482438",
   "metadata": {},
   "source": [
    "### If-Else Statement"
   ]
  },
  {
   "cell_type": "code",
   "execution_count": null,
   "id": "f6dc02a0",
   "metadata": {},
   "outputs": [],
   "source": [
    "a=30\n",
    "b=50\n",
    "if(a>b):\n",
    "    print(\"a is greater\")\n",
    "else:\n",
    "    print(\"b is greater\")"
   ]
  },
  {
   "cell_type": "code",
   "execution_count": null,
   "id": "d6218d68",
   "metadata": {},
   "outputs": [],
   "source": [
    "a=30\n",
    "b=50\n",
    "if(a==b):\n",
    "    print(\"a is equal to b\")\n",
    "else:\n",
    "    print(\"b is not equal to b\")"
   ]
  },
  {
   "cell_type": "code",
   "execution_count": null,
   "id": "1f5ac45a",
   "metadata": {},
   "outputs": [],
   "source": [
    "a=500\n",
    "b=500\n",
    "if(a==b):\n",
    "    print(\"a is equal to b\")\n",
    "else:\n",
    "    print(\"b is not equal to b\")"
   ]
  },
  {
   "cell_type": "code",
   "execution_count": null,
   "id": "e53ec8fb",
   "metadata": {},
   "outputs": [],
   "source": [
    "a=30\n",
    "b=50\n",
    "if(a<=b):\n",
    "    print(\"a is less than equal to b\")\n",
    "else:\n",
    "    print(\"b is not equal to b\")"
   ]
  },
  {
   "cell_type": "markdown",
   "id": "f29a14d7",
   "metadata": {},
   "source": [
    "### If-Elif-Else Condition"
   ]
  },
  {
   "cell_type": "code",
   "execution_count": null,
   "id": "683b59c1",
   "metadata": {},
   "outputs": [],
   "source": [
    "a=int(input(\"Enter first numer:\"))\n",
    "b=int(input(\"Enter second numer:\"))\n",
    "if(a==b):\n",
    "    print(\" a and b are equal\")\n",
    "elif a>b:\n",
    "    print(\"a is greater\")\n",
    "else:\n",
    "    print(\"b is greater\")"
   ]
  },
  {
   "cell_type": "code",
   "execution_count": null,
   "id": "d34acc94",
   "metadata": {},
   "outputs": [],
   "source": [
    "a=100\n",
    "b=50\n",
    "if(a==b):\n",
    "    print(\" a and b are equal\")\n",
    "elif a>b:\n",
    "    print(\"a is greater\")\n",
    "else:\n",
    "    print(\"b is greater\")"
   ]
  },
  {
   "cell_type": "code",
   "execution_count": null,
   "id": "08c6aecb",
   "metadata": {},
   "outputs": [],
   "source": [
    "a=float(input(\"Enter first numer:\"))\n",
    "b=int(input(\"Enter second numer:\"))\n",
    "if(a==b):\n",
    "    print(\" a and b are equal\")\n",
    "elif a>b:\n",
    "    print(\"a is greater b\")\n",
    "else:\n",
    "    print(\"b is greater a\")"
   ]
  },
  {
   "cell_type": "code",
   "execution_count": null,
   "id": "33290a6e",
   "metadata": {},
   "outputs": [],
   "source": [
    "a=9.7\n",
    "b=6.9\n",
    "if(a==b):\n",
    "    print(\" a and b are equal\")\n",
    "elif a>b:\n",
    "    print(\"a is greater b\")\n",
    "else:\n",
    "    print(\"b is greater a\")"
   ]
  },
  {
   "cell_type": "code",
   "execution_count": null,
   "id": "f14f60ec",
   "metadata": {},
   "outputs": [],
   "source": [
    "a=float(input(\"Enter first numer:\"))\n",
    "b=float(input(\"Enter second numer:\"))\n",
    "if(a<b):\n",
    "    print(\" a and b are equal\")\n",
    "elif a>b:\n",
    "    print(\"a is greater b\")\n",
    "else:\n",
    "    print(\"b is greater a\")"
   ]
  },
  {
   "cell_type": "markdown",
   "id": "5586f3dd",
   "metadata": {},
   "source": [
    "### Nested-If-Else Condition"
   ]
  },
  {
   "cell_type": "code",
   "execution_count": null,
   "id": "6304f773",
   "metadata": {},
   "outputs": [],
   "source": [
    "## write a program whether number is positive and negative\n",
    "num=float(input(\"Enter a number.\"))\n",
    "if num>=0:\n",
    "    if num==0:\n",
    "        print(\"zero\")\n",
    "    else:\n",
    "        print(\"positive number\")\n",
    "else:\n",
    "    print(\"negative number\")"
   ]
  },
  {
   "cell_type": "code",
   "execution_count": null,
   "id": "5b26d8e0",
   "metadata": {},
   "outputs": [],
   "source": [
    "num=10.9\n",
    "if num>=0:\n",
    "    if num<=0:\n",
    "        print(\"zero\")\n",
    "    else:\n",
    "        print(\"positive number\")\n",
    "else:\n",
    "    print(\"negative number\")"
   ]
  },
  {
   "cell_type": "code",
   "execution_count": null,
   "id": "9297b311",
   "metadata": {},
   "outputs": [],
   "source": [
    "num=float(input('Enter first number '))\n",
    "if (num % 2)==0:\n",
    "    if num==0:\n",
    "         print('zero')\n",
    "    else:\n",
    "        print('even')\n",
    "else:\n",
    "    print ('odd')\n"
   ]
  },
  {
   "cell_type": "code",
   "execution_count": null,
   "id": "4668bb48",
   "metadata": {},
   "outputs": [],
   "source": [
    "num=float(input('Enter first number '))\n",
    "i=1\n",
    "if (num %i )==0:\n",
    "    if num>1:\n",
    "         print('zero')\n",
    "    else:\n",
    "        print('prime')\n",
    "else:\n",
    "    print ('not')"
   ]
  },
  {
   "cell_type": "code",
   "execution_count": null,
   "id": "5121418d",
   "metadata": {},
   "outputs": [],
   "source": [
    "per=float(input(\"Enter percentage\"))\n",
    "if(per>70):\n",
    "    print(\"Distinction\")\n",
    "elif(per>=60):\n",
    "    print(\"First class\")\n",
    "elif(per>=70):\n",
    "    print(\"second class\")\n",
    "elif(per>=40):\n",
    "    print(\"pass\")\n",
    "else:\n",
    "    print(\"fail\")\n",
    "        "
   ]
  },
  {
   "cell_type": "code",
   "execution_count": null,
   "id": "91a4011d",
   "metadata": {},
   "outputs": [],
   "source": [
    "var=100\n",
    "if var<200:\n",
    "    print(\"Expression value is less than 200\")\n",
    "    if var==150:\n",
    "        print(\"which is 150\")\n",
    "    elif var==100:\n",
    "        print(\"which is 100\")\n",
    "    elif var==50:\n",
    "        print(\"which is 50\")\n",
    "    elif var<50:\n",
    "        print(\"Expression value is less than 50\")\n",
    "else:\n",
    "    print(\"could not find\")\n",
    "    \n",
    "    "
   ]
  },
  {
   "cell_type": "code",
   "execution_count": null,
   "id": "88f1a097",
   "metadata": {},
   "outputs": [],
   "source": [
    "a=float(input(\"enter marks:\"))\n",
    "if a>=50:\n",
    "    \n",
    "    if a==50:\n",
    "         print(\"average performance\") \n",
    "    else:\n",
    "        print(\"good performance\")\n",
    "else:\n",
    "       print(\"poor performance\")"
   ]
  },
  {
   "cell_type": "code",
   "execution_count": null,
   "id": "aa235d73",
   "metadata": {},
   "outputs": [],
   "source": [
    "a=int(input('enter first number'))\n",
    "b=int(input('enter second number'))\n",
    "if a==b:\n",
    "    print('a is equal to b')\n",
    "elif a>=b:\n",
    "    print('a is greater than b')\n",
    "else:\n",
    "    print('b is greater')\n",
    "\n",
    "    "
   ]
  },
  {
   "cell_type": "code",
   "execution_count": null,
   "id": "36fd95f6",
   "metadata": {},
   "outputs": [],
   "source": [
    "a=590\n",
    "b=390\n",
    "c=1000\n",
    "if a>b and c>a:\n",
    "    print(\"both are true\")"
   ]
  },
  {
   "cell_type": "code",
   "execution_count": null,
   "id": "4d3dc31b",
   "metadata": {},
   "outputs": [],
   "source": [
    "a=590\n",
    "b=390\n",
    "c=1000\n",
    "if a>b or c>a:\n",
    "    print(\"either a ,b or c is true\")"
   ]
  },
  {
   "cell_type": "code",
   "execution_count": null,
   "id": "6cf7179e",
   "metadata": {},
   "outputs": [],
   "source": [
    "a=100\n",
    "b=200\n",
    "c=301\n",
    "if ( a and b   ) / 10 :\n",
    "  print(\" a and b are divisble by 10 \")\n",
    "elif ( a or b or c  ) / 10 :\n",
    "  print(\"2 variables are divisible by 10 \")\n",
    "else :\n",
    "  print(\"a,b and c are not divisible by 10\")\n"
   ]
  },
  {
   "cell_type": "code",
   "execution_count": null,
   "id": "4eec6f60",
   "metadata": {},
   "outputs": [],
   "source": [
    "x = 50\n",
    "y = 20\n",
    "if(x==10)or(y==20):\n",
    "    print(\"One or Both expressions are True\")\n",
    "else:\n",
    "    print(\"Both are False!\")\n"
   ]
  },
  {
   "cell_type": "code",
   "execution_count": null,
   "id": "ea8c9df9",
   "metadata": {},
   "outputs": [],
   "source": [
    "day1=str(input(\"Enter weeks 1st day: \"))\n",
    "day2=str(input(\"Enter weeks 7th day : \"))\n",
    "\n",
    "if(day1==\"saturday\") and (day2==\"sunday\"):\n",
    "    print(\"You have decodr session\")\n",
    "elif(day1==\"sunday\") and (day2==\"saturday\"):\n",
    "    (\"You have decodr session\")\n",
    "else:\n",
    "    (\"Go with recoded session\")\n"
   ]
  },
  {
   "cell_type": "code",
   "execution_count": null,
   "id": "65c1d5b6",
   "metadata": {},
   "outputs": [],
   "source": [
    "temp=float(input(\"enter temp :\"))\n",
    "if temp==20 or temp<=20:\n",
    "    print(\"coolest weather\")\n",
    "elif (temp==30)>=20 or (temp==30)>20:\n",
    "    print(\"cool weather\")\n",
    "else:\n",
    "    print(\"warm weather\")\n"
   ]
  },
  {
   "cell_type": "code",
   "execution_count": null,
   "id": "27bcb1c7",
   "metadata": {},
   "outputs": [],
   "source": [
    "day1=str(input(\"enter day1 :\"))\n",
    "day2=str(input(\"enter day2 :\"))\n",
    "if (day1 == \"sat\" and day2 == \"sun\"):\n",
    "  print(\"Be ready for session\")\n",
    "elif (day1 == \"sat\" and day2==(\"mon\" or \"tue\" or \"wed\" or \"thu\" or  \"fri\")) :\n",
    "  print (\"attend the day1 session and sunday will be recording session\")\n",
    "else :\n",
    "  print(\"invalid day name\")"
   ]
  },
  {
   "cell_type": "code",
   "execution_count": null,
   "id": "a444340e",
   "metadata": {},
   "outputs": [],
   "source": [
    "a=str(input(\"enter day: \"))\n",
    "if a==\"saturday\" or a==\"sunday\":\n",
    "    print(\"session is today\")\n",
    "else:\n",
    "    print(\"recorded session\")\n"
   ]
  },
  {
   "cell_type": "code",
   "execution_count": null,
   "id": "bbe6479a",
   "metadata": {},
   "outputs": [],
   "source": [
    "day1=str(input(\"Enter weeks 1st day: \"))\n",
    "day2=str(input(\"Enter weeks 7th day : \"))\n",
    "\n",
    "if day1==(\"saturday\") and (day2==\"sunday\"):\n",
    "  print(\"You have decodr session\")\n",
    "elif (day1==\"sunday\") and (day2==\"saturday\"):\n",
    "  print(\"You have decodr session\")\n",
    "else:\n",
    "  print(\"Go with recorded session\")"
   ]
  },
  {
   "cell_type": "code",
   "execution_count": null,
   "id": "6233e0b4",
   "metadata": {},
   "outputs": [],
   "source": [
    "a=float(input(\"enter 1st no. :\"))\n",
    "b=float(input(\"enter 2nd no. :\"))\n",
    "if a==b and a>=b:\n",
    "    print(\"a is greater and  equal\")\n",
    "elif not(a==b and a>=b):\n",
    "    print(\"false\")\n",
    "        "
   ]
  },
  {
   "cell_type": "code",
   "execution_count": null,
   "id": "2a21978d",
   "metadata": {},
   "outputs": [],
   "source": []
  },
  {
   "cell_type": "code",
   "execution_count": null,
   "id": "bbfd4097",
   "metadata": {},
   "outputs": [],
   "source": []
  },
  {
   "cell_type": "code",
   "execution_count": null,
   "id": "959880bb",
   "metadata": {},
   "outputs": [],
   "source": []
  }
 ],
 "metadata": {
  "kernelspec": {
   "display_name": "Python 3",
   "language": "python",
   "name": "python3"
  },
  "language_info": {
   "codemirror_mode": {
    "name": "ipython",
    "version": 3
   },
   "file_extension": ".py",
   "mimetype": "text/x-python",
   "name": "python",
   "nbconvert_exporter": "python",
   "pygments_lexer": "ipython3",
   "version": "3.8.8"
  }
 },
 "nbformat": 4,
 "nbformat_minor": 5
}
