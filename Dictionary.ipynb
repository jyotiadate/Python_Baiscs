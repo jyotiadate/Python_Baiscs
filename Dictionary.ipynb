{
 "cells": [
  {
   "cell_type": "markdown",
   "id": "f1e57555",
   "metadata": {},
   "source": [
    "### Dictionary\n",
    "\n",
    "1.Dictionary has key value pair datastructure.\n",
    "2.key s unique and value can be duplicated.\n",
    "3.Dictionary is mutable.\n",
    "4.Dictionary are made of keys and values.\n",
    "5.Dictionary also represent using curly brackets{}."
   ]
  },
  {
   "cell_type": "code",
   "execution_count": 2,
   "id": "ca48da48",
   "metadata": {},
   "outputs": [
    {
     "data": {
      "text/plain": [
       "{0: 'Jyo', 1: 'Akki', 2: 'Shubham', 3: 'jeevan', 4: 'sonali'}"
      ]
     },
     "execution_count": 2,
     "metadata": {},
     "output_type": "execute_result"
    }
   ],
   "source": [
    "Student={0:\"Jyo\",1:\"Akki\",2:\"Shubham\",3:\"jeevan\",4:\"sonali\"}\n",
    "Student"
   ]
  },
  {
   "cell_type": "code",
   "execution_count": 3,
   "id": "d2fece57",
   "metadata": {
    "scrolled": true
   },
   "outputs": [
    {
     "data": {
      "text/plain": [
       "'Jyo'"
      ]
     },
     "execution_count": 3,
     "metadata": {},
     "output_type": "execute_result"
    }
   ],
   "source": [
    "Student[0]"
   ]
  },
  {
   "cell_type": "code",
   "execution_count": 4,
   "id": "ac9675ce",
   "metadata": {
    "collapsed": true
   },
   "outputs": [
    {
     "data": {
      "text/plain": [
       "'sonali'"
      ]
     },
     "execution_count": 4,
     "metadata": {},
     "output_type": "execute_result"
    }
   ],
   "source": [
    "Student[4]"
   ]
  },
  {
   "cell_type": "code",
   "execution_count": 5,
   "id": "9731f3ce",
   "metadata": {},
   "outputs": [
    {
     "data": {
      "text/plain": [
       "{0: 'Jyo', 1: 'Akki', 2: 'Shubham', 3: 'Shoheb', 4: 'sonali'}"
      ]
     },
     "execution_count": 5,
     "metadata": {},
     "output_type": "execute_result"
    }
   ],
   "source": [
    "#replace values\n",
    "Student[3]=\"Shoheb\"\n",
    "Student"
   ]
  },
  {
   "cell_type": "code",
   "execution_count": null,
   "id": "855f723b",
   "metadata": {},
   "outputs": [],
   "source": [
    "### Deleting an item the dictionary is done by using a popitem ,\n",
    "### pop : Delethe the ite, on specifying key name\n",
    "### popitem : Delete the last item from the dictionary.\n",
    "### del : the del keyword remove the item with specified key name"
   ]
  },
  {
   "cell_type": "code",
   "execution_count": 8,
   "id": "d7949549",
   "metadata": {},
   "outputs": [
    {
     "name": "stdout",
     "output_type": "stream",
     "text": [
      "{0: 'Jyo', 2: 'Shubham', 3: 'jeevan', 4: 'sonali'}\n"
     ]
    }
   ],
   "source": [
    "Student={0:\"Jyo\",1:\"Akki\",2:\"Shubham\",3:\"jeevan\",4:\"sonali\"}\n",
    "Student\n",
    "Student.pop(1)\n",
    "print(Student)"
   ]
  },
  {
   "cell_type": "code",
   "execution_count": 9,
   "id": "a0bae340",
   "metadata": {},
   "outputs": [
    {
     "data": {
      "text/plain": [
       "{'a': 'Alpha', 1: 'fourth', 2: 'second', 7: 'third', 5: 'fourth', 6: 'sixth'}"
      ]
     },
     "execution_count": 9,
     "metadata": {},
     "output_type": "execute_result"
    }
   ],
   "source": [
    "sample_dict={\"a\":\"Alpha\",1:\"first\",2:\"second\",7:\"third\",1:\"fourth\",5:\"fourth\",6:\"sixth\"}\n",
    "sample_dict"
   ]
  },
  {
   "cell_type": "code",
   "execution_count": 11,
   "id": "f3091eab",
   "metadata": {},
   "outputs": [
    {
     "ename": "SyntaxError",
     "evalue": "cannot assign to function call (<ipython-input-11-81251529fdfb>, line 1)",
     "output_type": "error",
     "traceback": [
      "\u001b[1;36m  File \u001b[1;32m\"<ipython-input-11-81251529fdfb>\"\u001b[1;36m, line \u001b[1;32m1\u001b[0m\n\u001b[1;33m    sample.append(3)=\"Eight\"\u001b[0m\n\u001b[1;37m    ^\u001b[0m\n\u001b[1;31mSyntaxError\u001b[0m\u001b[1;31m:\u001b[0m cannot assign to function call\n"
     ]
    }
   ],
   "source": [
    "sample.append(3)=\"Eight\"\n",
    "sample_dict"
   ]
  },
  {
   "cell_type": "code",
   "execution_count": null,
   "id": "56a8e4e1",
   "metadata": {},
   "outputs": [],
   "source": []
  }
 ],
 "metadata": {
  "kernelspec": {
   "display_name": "Python 3",
   "language": "python",
   "name": "python3"
  },
  "language_info": {
   "codemirror_mode": {
    "name": "ipython",
    "version": 3
   },
   "file_extension": ".py",
   "mimetype": "text/x-python",
   "name": "python",
   "nbconvert_exporter": "python",
   "pygments_lexer": "ipython3",
   "version": "3.8.8"
  }
 },
 "nbformat": 4,
 "nbformat_minor": 5
}
